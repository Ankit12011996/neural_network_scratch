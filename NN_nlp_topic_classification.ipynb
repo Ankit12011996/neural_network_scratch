{
 "cells": [
  {
   "cell_type": "markdown",
   "metadata": {},
   "source": [
    "# [COM6513] Assignment: Topic Classification with a Feedforward Network\n",
    "\n",
    "\n",
    "### Instructor: Nikos Aletras\n",
    "\n",
    "\n",
    "The goal of this assignment is to develop a Feedforward neural network for topic classification. \n",
    "\n",
    "\n",
    "\n",
    "For that purpose, you will implement:\n",
    "\n",
    "- Text processing methods for transforming raw text data into input vectors for your network  (**1 mark**)\n",
    "\n",
    "\n",
    "- A Feedforward network consisting of:\n",
    "    - **One-hot** input layer mapping words into an **Embedding weight matrix** (**1 mark**)\n",
    "    - **One hidden layer** computing the mean embedding vector of all words in input followed by a **ReLU activation function** (**1 mark**)\n",
    "    - **Output layer** with a **softmax** activation. (**1 mark**)\n",
    "\n",
    "\n",
    "- The Stochastic Gradient Descent (SGD) algorithm with **back-propagation** to learn the weights of your Neural network. Your algorithm should:\n",
    "    - Use (and minimise) the **Categorical Cross-entropy loss** function (**1 mark**)\n",
    "    - Perform a **Forward pass** to compute intermediate outputs (**2 marks**)\n",
    "    - Perform a **Backward pass** to compute gradients and update all sets of weights (**3 marks**)\n",
    "    - Implement and use **Dropout** after each hidden layer for regularisation (**1 marks**)\n",
    "\n",
    "\n",
    "\n",
    "- Discuss how did you choose hyperparameters? You can tune the learning rate (hint: choose small values), embedding size {e.g. 50, 300, 500} and the dropout rate {e.g. 0.2, 0.5}. Please use tables or graphs to show training and validation performance for each hyperparameter combination  (**2 marks**). \n",
    "\n",
    "\n",
    "\n",
    "- After training a model, plot the learning process (i.e. training and validation loss in each epoch) using a line plot and report accuracy. Does your model overfit, underfit or is about right? (**1 mark**).\n",
    "\n",
    "\n",
    "\n",
    "- Re-train your network by using pre-trained embeddings ([GloVe](https://nlp.stanford.edu/projects/glove/)) trained on large corpora. Instead of randomly initialising the embedding weights matrix, you should initialise it with the pre-trained weights. During training, you should not update them (i.e. weight freezing) and backprop should stop before computing gradients for updating embedding weights. Report results by performing hyperparameter tuning and plotting the learning process. Do you get better performance? (**1 marks**).\n",
    "\n",
    "\n",
    "\n",
    "- Extend you Feedforward network by adding more hidden layers (e.g. one more or two). How does it affect the performance? Note: You need to repeat hyperparameter tuning, but the number of combinations grows exponentially. Therefore, you need to choose a subset of all possible combinations (**3 marks**)\n",
    "\n",
    "\n",
    "- Provide well documented and commented code describing all of your choices. In general, you are free to make decisions about text processing (e.g. punctuation, numbers, vocabulary size) and hyperparameter values. We expect to see justifications and discussion for all of your choices. You must provide detailed explanations of your implementation, provide a detailed analysis of the results (e.g. why a model performs better than other models etc.) including error analyses (e.g. examples and discussion/analysis of missclasifications etc.)  (**10 marks**). \n",
    "\n",
    "\n",
    "\n",
    "- Provide efficient solutions by using Numpy arrays when possible. Executing the whole notebook with your code should not take more than 10 minutes on any standard computer (e.g. Intel Core i5 CPU, 8 or 16GB RAM) excluding hyperparameter tuning runs and loading the pretrained vectors. You can find tips in Lab 1 (**2 marks**). \n",
    "\n",
    "\n",
    "\n",
    "### Data \n",
    "\n",
    "The data you will use for the task is a subset of the [AG News Corpus](http://groups.di.unipi.it/~gulli/AG_corpus_of_news_articles.html) and you can find it in the `./data_topic` folder in CSV format:\n",
    "\n",
    "- `data_topic/train.csv`: contains 2,400 news articles, 800 for each class to be used for training.\n",
    "- `data_topic/dev.csv`: contains 150 news articles, 50 for each class to be used for hyperparameter selection and monitoring the training process.\n",
    "- `data_topic/test.csv`: contains 900 news articles, 300 for each class to be used for testing.\n",
    "\n",
    "Class 1: Politics, Class 2: Sports, Class 3: Economy\n",
    "\n",
    "### Pre-trained Embeddings\n",
    "\n",
    "You can download pre-trained GloVe embeddings trained on Common Crawl (840B tokens, 2.2M vocab, cased, 300d vectors, 2.03 GB download) from [here](http://nlp.stanford.edu/data/glove.840B.300d.zip). No need to unzip, the file is large.\n",
    "\n",
    "### Save Memory\n",
    "\n",
    "To save RAM, when you finish each experiment you can delete the weights of your network using `del W` followed by Python's garbage collector `gc.collect()`\n",
    "\n",
    "\n"
   ]
  },
  {
   "cell_type": "markdown",
   "metadata": {},
   "source": [
    "### Submission Instructions\n",
    "\n",
    "You **must** submit a Jupyter Notebook file (assignment_yourusername.ipynb) and an exported PDF version (you can do it from Jupyter: `File->Download as->PDF via Latex`, you need to have a Latex distribution installed e.g. MikTex or MacTex and pandoc). If you are unable to export the pdf via Latex, you can print the notebook web page to a pdf file from your browser (e.g. on Firefox: File->Print->Save to PDF).\n",
    "\n",
    "\n",
    "You are advised to follow the code structure given in this notebook by completing all given funtions. You can also write any auxilliary/helper functions (and arguments for the functions) that you might need but note that you can provide a full solution without any such functions. Similarly, you can just use only the packages imported below but you are free to use any functionality from the [Python Standard Library](https://docs.python.org/3/library/index.html), NumPy, SciPy (excluding built-in softmax funtcions) and Pandas. You are **not allowed to use any third-party library** such as Scikit-learn (apart from metric functions already provided), NLTK, Spacy, Keras, Pytorch etc.. You should mention if you've used Windows to write and test your code because we mostly use Unix based machines for marking (e.g. Ubuntu, MacOS). \n",
    "\n",
    "There is no single correct answer on what your accuracy should be, but correct implementations usually achieve F1-scores around 80\\% or higher. The quality of the analysis of the results and discussion is as important as the implementation and accuracy of your models. Please be brief and consice in your discussion and analyses. \n",
    "\n",
    "This assignment will be marked out of 30. It is worth 30\\% of your final grade in the module.\n",
    "\n",
    "The deadline for this assignment is **23:59 on Mon, 26 Apr 2023** and it needs to be submitted via Blackboard. Standard departmental penalties for lateness will be applied. We use a range of strategies to **detect [unfair means](https://www.sheffield.ac.uk/ssid/unfair-means/index)**, including Turnitin which helps detect plagiarism. Use of unfair means would result in getting a failing grade.\n",
    "\n"
   ]
  },
  {
   "cell_type": "code",
   "execution_count": 1,
   "metadata": {
    "ExecuteTime": {
     "end_time": "2020-04-02T15:00:18.625532Z",
     "start_time": "2020-04-02T15:00:17.377733Z"
    },
    "scrolled": true
   },
   "outputs": [],
   "source": [
    "import pandas as pd\n",
    "import numpy as np\n",
    "from collections import Counter\n",
    "import re\n",
    "import matplotlib.pyplot as plt\n",
    "from sklearn.metrics import accuracy_score, precision_score, recall_score, f1_score\n",
    "import random\n",
    "from time import localtime, strftime\n",
    "from scipy.stats import spearmanr,pearsonr\n",
    "import zipfile\n",
    "import gc\n",
    "\n",
    "# fixing random seed for reproducibility\n",
    "random.seed(1230)\n",
    "np.random.seed(1230)\n"
   ]
  },
  {
   "cell_type": "markdown",
   "metadata": {},
   "source": [
    "## Transform Raw texts into training and development data\n",
    "\n",
    "First, you need to load the training, development and test sets from their corresponding CSV files (tip: you can use Pandas dataframes)."
   ]
  },
  {
   "cell_type": "code",
   "execution_count": 2,
   "metadata": {
    "ExecuteTime": {
     "end_time": "2020-04-02T14:26:39.748484Z",
     "start_time": "2020-04-02T14:26:39.727404Z"
    },
    "scrolled": true
   },
   "outputs": [],
   "source": [
    "df_train = pd.read_csv('data_topic/train.csv',names=[0, 1])\n",
    "df_test = pd.read_csv('data_topic/test.csv',names=[0, 1])\n",
    "df_dev = pd.read_csv('data_topic/dev.csv',names=[0, 1])"
   ]
  },
  {
   "cell_type": "code",
   "execution_count": null,
   "metadata": {
    "ExecuteTime": {
     "end_time": "2020-04-02T14:26:39.753874Z",
     "start_time": "2020-04-02T14:26:39.749647Z"
    },
    "scrolled": true
   },
   "outputs": [],
   "source": [
    "\n"
   ]
  },
  {
   "cell_type": "markdown",
   "metadata": {},
   "source": [
    "# Create input representations\n",
    "\n",
    "\n",
    "To train your Feedforward network, you first need to obtain input representations given a vocabulary. One-hot encoding requires large memory capacity. Therefore, we will instead represent documents as lists of vocabulary indices (each word corresponds to a vocabulary index). \n",
    "\n",
    "\n",
    "## Text Pre-Processing Pipeline\n",
    "\n",
    "To obtain a vocabulary of words. You should: \n",
    "- tokenise all texts into a list of unigrams (tip: you can re-use the functions from Assignment 1) \n",
    "- remove stop words (using the one provided or one of your preference) \n",
    "- remove unigrams appearing in less than K documents\n",
    "- use the remaining to create a vocabulary of the top-N most frequent unigrams in the entire corpus.\n"
   ]
  },
  {
   "cell_type": "code",
   "execution_count": 3,
   "metadata": {
    "ExecuteTime": {
     "end_time": "2020-04-02T14:26:40.851926Z",
     "start_time": "2020-04-02T14:26:40.847500Z"
    },
    "scrolled": true
   },
   "outputs": [],
   "source": [
    "stop_words = ['a','in','on','at','and','or', \n",
    "              'to', 'the', 'of', 'an', 'by', \n",
    "              'as', 'is', 'was', 'were', 'been', 'be', \n",
    "              'are','for', 'this', 'that', 'these', 'those', 'you', 'i', 'if',\n",
    "             'it', 'he', 'she', 'we', 'they', 'will', 'have', 'has',\n",
    "              'do', 'did', 'can', 'could', 'who', 'which', 'what',\n",
    "              'but', 'not', 'there', 'no', 'does', 'not', 'so', 've', 'their',\n",
    "             'his', 'her', 'they', 'them', 'from', 'with', 'its']\n"
   ]
  },
  {
   "cell_type": "markdown",
   "metadata": {},
   "source": [
    "### Unigram extraction from a document\n",
    "\n",
    "You first need to implement the `extract_ngrams` function. It takes as input:\n",
    "- `x_raw`: a string corresponding to the raw text of a document\n",
    "- `ngram_range`: a tuple of two integers denoting the type of ngrams you want to extract, e.g. (1,2) denotes extracting unigrams and bigrams.\n",
    "- `token_pattern`: a string to be used within a regular expression to extract all tokens. Note that data is already tokenised so you could opt for a simple white space tokenisation.\n",
    "- `stop_words`: a list of stop words\n",
    "- `vocab`: a given vocabulary. It should be used to extract specific features.\n",
    "\n",
    "and returns:\n",
    "\n",
    "- a list of all extracted features.\n"
   ]
  },
  {
   "cell_type": "code",
   "execution_count": 4,
   "metadata": {
    "ExecuteTime": {
     "end_time": "2020-05-11T08:23:17.181553Z",
     "start_time": "2020-05-11T08:23:17.178314Z"
    },
    "scrolled": true
   },
   "outputs": [],
   "source": [
    "#regex can be changed to  the token pattern to match all word characters (including digits and special characters) using the regular expression \\w+\n",
    "# x is a list of ngram_range=(1,2) unigram and bigram for an input string.\n",
    "def extract_ngrams(x_raw, ngram_range, token_pattern=r'\\b[A-Za-z][A-Za-z]+\\b', \n",
    "                   stop_words=stop_words, vocab=None):\n",
    "    x_lower = x_raw.lower()\n",
    "    tokens = re.findall(token_pattern, x_lower)\n",
    "    if stop_words:\n",
    "        tokens = [token for token in tokens if token not in stop_words]\n",
    "        \n",
    "    x = []\n",
    "    data=[]\n",
    "    for n in range(ngram_range[0], ngram_range[1]+1):\n",
    "        for i in range(len(tokens)-n+1):\n",
    "            n_gram = ' '.join(tokens[i:i+n])\n",
    "            if vocab is None or n_gram in vocab:\n",
    "                x.append(n_gram)\n",
    "    #data = [y for y in zip(*[iter(x)])]\n",
    "                \n",
    "    \n",
    "    return x\n",
    "\n",
    "\n",
    "\n",
    "\n",
    "\n"
   ]
  },
  {
   "cell_type": "code",
   "execution_count": 5,
   "metadata": {},
   "outputs": [],
   "source": [
    "#Function to do the one-hot encoding of the labels\n",
    "\n",
    "def one_hot(Y):\n",
    "    one_hot_Y = np.zeros((len(Y), 3))\n",
    "    one_hot_Y[np.arange(len(Y)), Y-1] = 1\n",
    "    \n",
    "    return one_hot_Y"
   ]
  },
  {
   "cell_type": "code",
   "execution_count": 291,
   "metadata": {},
   "outputs": [],
   "source": [
    "#Converting Train Data to list.\n",
    "x_raw_train = list(df_train[1])\n",
    "y_true = list(df_train[0])\n",
    "\n",
    "#Converting Dev Data to list.\n",
    "x_dev_train = list(df_dev[1])\n",
    "y_dev_true= list(df_dev[0])\n",
    "\n",
    "#Converting Test Data to list.\n",
    "\n",
    "x_test_train = list(df_test[1])\n",
    "y_test_true= list(df_test[0])\n",
    "\n",
    "\n",
    "#Remark - This train list contains duplicates, remove it...\n"
   ]
  },
  {
   "cell_type": "markdown",
   "metadata": {},
   "source": [
    "### Create a vocabulary of n-grams\n",
    "\n",
    "Then the `get_vocab` function will be used to (1) create a vocabulary of ngrams; (2) count the document frequencies of ngrams; (3) their raw frequency. It takes as input:\n",
    "- `X_raw`: a list of strings each corresponding to the raw text of a document\n",
    "- `ngram_range`: a tuple of two integers denoting the type of ngrams you want to extract, e.g. (1,2) denotes extracting unigrams and bigrams.\n",
    "- `token_pattern`: a string to be used within a regular expression to extract all tokens. Note that data is already tokenised so you could opt for a simple white space tokenisation.\n",
    "- `stop_words`: a list of stop words\n",
    "- `min_df`: keep ngrams with a minimum document frequency.\n",
    "- `keep_topN`: keep top-N more frequent ngrams.\n",
    "\n",
    "and returns:\n",
    "\n",
    "- `vocab`: a set of the n-grams that will be used as features.\n",
    "- `df`: a Counter (or dict) that contains ngrams as keys and their corresponding document frequency as values.\n",
    "- `ngram_counts`: counts of each ngram in vocab\n"
   ]
  },
  {
   "cell_type": "code",
   "execution_count": 292,
   "metadata": {
    "ExecuteTime": {
     "end_time": "2020-04-02T14:26:42.563876Z",
     "start_time": "2020-04-02T14:26:42.557967Z"
    },
    "scrolled": true
   },
   "outputs": [],
   "source": [
    "def get_vocab(X_raw, ngram_range, token_pattern=r'\\b[A-Za-z][A-Za-z]+\\b(?!,)', stop_words=stop_words, min_df=0, keep_topN=2):\n",
    "    \n",
    "    # Create regex pattern to extract tokens\n",
    "    #token_regex = re.compile(token_pattern)\n",
    "    \n",
    "    # Initialize document frequency Counter and n-gram count dictionary\n",
    "    df = Counter()\n",
    "    ngram_counts = {}\n",
    "    \n",
    "    # Iterate through each document\n",
    "    for doc in X_raw:\n",
    "        \n",
    "       \n",
    "        # Generate n-grams for document\n",
    "        ngrams = extract_ngrams(doc,ngram_range, token_pattern=r'\\b[A-Za-z][A-Za-z]+\\b', \n",
    "                stop_words=stop_words, vocab=None)\n",
    "            \n",
    "        # Update document frequency Counter for each unique n-gram\n",
    "        df.update(ngrams)\n",
    "            \n",
    "        # Update n-gram count dictionary for each unique n-gram\n",
    "        for ng in set(ngrams):\n",
    "            ngram_counts[ng] = ngram_counts.get(ng,0) + 1\n",
    "    \n",
    "    # Filter out n-grams with document frequency below minimum threshold\n",
    "    df = Counter({ng:count for ng,count in df.items() if count>=min_df})\n",
    "    \n",
    "    # Keep top-N most frequent n-grams if specified\n",
    "    if keep_topN:\n",
    "        vocab = set([ng for ng,_ in df.most_common(keep_topN)])\n",
    "    else:\n",
    "        vocab = set(df.keys())\n",
    "        \n",
    "    return vocab,df,ngram_counts"
   ]
  },
  {
   "cell_type": "markdown",
   "metadata": {},
   "source": [
    "Now you should use `get_vocab` to create your vocabulary and get document and raw frequencies of unigrams:"
   ]
  },
  {
   "cell_type": "code",
   "execution_count": 15,
   "metadata": {
    "ExecuteTime": {
     "end_time": "2020-04-02T14:26:43.577997Z",
     "start_time": "2020-04-02T14:26:43.478950Z"
    },
    "scrolled": true
   },
   "outputs": [
    {
     "data": {
      "text/plain": [
       "12125"
      ]
     },
     "execution_count": 15,
     "metadata": {},
     "output_type": "execute_result"
    }
   ],
   "source": [
    "#Storing the returned values from get_vocab() in vocab_set, df_counter, ngram_dict respectively.\n",
    "#input to the get_vocab() is x_raw_train whihch is a list of string each corresponding to the raw tet in a document.\n",
    "        \n",
    "vocab_set, df_counter, ngram_dict = get_vocab(x_raw_train , ngram_range=(1,2), token_pattern=r'\\b[A-Za-z][A-Za-z]+\\b(?!,)', stop_words=stop_words, min_df=2, keep_topN=None)\n",
    "\n",
    "#vocab_list_feature  is a list of all the vocabs extracted using get_vocab()\n",
    "vocab_list_feature = list(vocab_set)\n",
    "\n",
    "\n",
    "\n",
    "\n",
    "\n",
    "\n"
   ]
  },
  {
   "cell_type": "markdown",
   "metadata": {},
   "source": [
    "Then, you need to create vocabulary id -> word and word -> vocabulary id dictionaries for reference:"
   ]
  },
  {
   "cell_type": "code",
   "execution_count": 16,
   "metadata": {
    "ExecuteTime": {
     "end_time": "2020-04-02T14:26:44.069661Z",
     "start_time": "2020-04-02T14:26:44.065058Z"
    },
    "scrolled": true
   },
   "outputs": [],
   "source": [
    "\n",
    "\n",
    "word_id=[]\n",
    "# Create vocabulary id -> word dictionary\n",
    "vocabid_to_word = dict(enumerate(vocab_list_feature))\n",
    "\n",
    "# Create word -> vocabulary id dictionary\n",
    "word_id_vocab  = {v:id for id,v in vocabid_to_word.items()}\n",
    "\n",
    "\n",
    "\n"
   ]
  },
  {
   "cell_type": "code",
   "execution_count": null,
   "metadata": {},
   "outputs": [],
   "source": [
    "\n",
    "\n"
   ]
  },
  {
   "cell_type": "markdown",
   "metadata": {},
   "source": [
    "### Convert the list of unigrams  into a list of vocabulary indices"
   ]
  },
  {
   "cell_type": "markdown",
   "metadata": {},
   "source": [
    "Storing actual one-hot vectors into memory for all words in the entire data set is prohibitive. Instead, we will store word indices in the vocabulary and look-up the weight matrix. This is equivalent of doing a dot product between an one-hot vector and the weight matrix. \n",
    "\n",
    "First, represent documents in train, dev and test sets as lists of words in the vocabulary:"
   ]
  },
  {
   "cell_type": "code",
   "execution_count": null,
   "metadata": {},
   "outputs": [],
   "source": [
    "x_dev_train = [extract_ngrams(i, ngram_range=(1,2), token_pattern=r'\\b[A-Za-z][A-Za-z]+\\b', stop_words=stop_words, vocab=None) for i in x_dev_train]\n",
    "train_list = [extract_ngrams(i, ngram_range=(1,2), token_pattern=r'\\b[A-Za-z][A-Za-z]+\\b', stop_words=stop_words, vocab=None) for i in x_raw_train]\n"
   ]
  },
  {
   "cell_type": "code",
   "execution_count": null,
   "metadata": {
    "ExecuteTime": {
     "end_time": "2020-04-02T14:26:45.047887Z",
     "start_time": "2020-04-02T14:26:44.920631Z"
    },
    "scrolled": true
   },
   "outputs": [],
   "source": []
  },
  {
   "cell_type": "markdown",
   "metadata": {},
   "source": [
    "Then convert them into lists of indices in the vocabulary:"
   ]
  },
  {
   "cell_type": "code",
   "execution_count": 293,
   "metadata": {
    "ExecuteTime": {
     "end_time": "2020-04-02T14:26:45.752658Z",
     "start_time": "2020-04-02T14:26:45.730409Z"
    },
    "scrolled": true
   },
   "outputs": [],
   "source": [
    "##Train Set\n",
    "def list_of_id(doc,word_id_vocab):\n",
    "    temp_doc = []\n",
    "    \n",
    "    for tup_ngram in doc:\n",
    "        try:\n",
    "            temp_doc.append(word_id_vocab[tup_ngram])\n",
    "        except KeyError:\n",
    "            temp_doc.append(0)\n",
    "        \n",
    "    return temp_doc\n",
    "\n",
    "    \n",
    " #Converting list of words in a documnents in training and validation data to list of indices.     \n",
    "train_set = [list_of_id(doc,word_id_vocab) for doc in train_list]\n",
    "x_dev_train  = [list_of_id(doc,word_id_vocab) for doc in x_dev_train]\n",
    "x_test_train= [list_of_id(doc,word_id_vocab) for doc in x_test_train]           \n",
    "                \n"
   ]
  },
  {
   "cell_type": "markdown",
   "metadata": {},
   "source": [
    "Put the labels `Y` for train, dev and test sets into arrays: "
   ]
  },
  {
   "cell_type": "code",
   "execution_count": 294,
   "metadata": {},
   "outputs": [],
   "source": [
    "#Converting true labels into one-hot encoded label for Train data\n",
    "y_label = np.array(df_train[0])\n",
    "y_label = one_hot(y_label)\n",
    "\n",
    "#Converting true labels into one-hot encoded label for Dev data\n",
    "y_dev_label = np.array(df_dev[0])\n",
    "y_dev_label = one_hot(y_dev_label)\n",
    "\n",
    "#Converting true labels into one-hot encoded label for Test data\n",
    "y_test_label = np.array(df_test[0])\n",
    "y_test_label = one_hot(y_test_label)"
   ]
  },
  {
   "cell_type": "markdown",
   "metadata": {},
   "source": [
    "# Network Architecture\n",
    "\n",
    "Your network should pass each word index into its corresponding embedding by looking-up on the embedding matrix and then compute the first hidden layer $\\mathbf{h}_1$:\n",
    "\n",
    "$$\\mathbf{h}_1 = \\frac{1}{|x|}\\sum_i W^e_i, i \\in x$$\n",
    "\n",
    "where $|x|$ is the number of words in the document and $W^e$ is an embedding matrix $|V|\\times d$, $|V|$ is the size of the vocabulary and $d$ the embedding size.\n",
    "\n",
    "Then $\\mathbf{h}_1$ should be passed through a ReLU activation function:\n",
    "\n",
    "$$\\mathbf{a}_1 = relu(\\mathbf{h}_1)$$\n",
    "\n",
    "Finally the hidden layer is passed to the output layer:\n",
    "\n",
    "\n",
    "$$\\mathbf{y} = \\text{softmax}(\\mathbf{a}_1W) $$ \n",
    "where $W$ is a matrix $d \\times |{\\cal Y}|$, $|{\\cal Y}|$ is the number of classes.\n",
    "\n",
    "During training, $\\mathbf{a}_1$ should be multiplied with a dropout mask vector (elementwise) for regularisation before it is passed to the output layer.\n",
    "\n",
    "You can extend to a deeper architecture by passing a hidden layer to another one:\n",
    "\n",
    "$$\\mathbf{h_i} = \\mathbf{a}_{i-1}W_i $$\n",
    "\n",
    "$$\\mathbf{a_i} = relu(\\mathbf{h_i}) $$\n",
    "\n"
   ]
  },
  {
   "cell_type": "markdown",
   "metadata": {},
   "source": [
    "# Network Training\n",
    "\n",
    "First we need to define the parameters of our network by initiliasing the weight matrices. For that purpose, you should implement the `network_weights` function that takes as input:\n",
    "\n",
    "- `vocab_size`: the size of the vocabulary\n",
    "- `embedding_dim`: the size of the word embeddings\n",
    "- `hidden_dim`: a list of the sizes of any subsequent hidden layers. Empty if there are no hidden layers between the average embedding and the output layer \n",
    "- `num_classes`: the number of the classes for the output layer\n",
    "\n",
    "and returns:\n",
    "\n",
    "- `W`: a dictionary mapping from layer index (e.g. 0 for the embedding matrix) to the corresponding weight matrix initialised with small random numbers (hint: use numpy.random.uniform with from -0.1 to 0.1)\n",
    "\n",
    "Make sure that the dimensionality of each weight matrix is compatible with the previous and next weight matrix, otherwise you won't be able to perform forward and backward passes. Consider also using np.float32 precision to save memory."
   ]
  },
  {
   "cell_type": "code",
   "execution_count": 234,
   "metadata": {
    "ExecuteTime": {
     "end_time": "2020-04-02T15:41:20.918617Z",
     "start_time": "2020-04-02T15:41:20.915597Z"
    },
    "scrolled": true
   },
   "outputs": [],
   "source": [
    "def network_weights1(vocab_size=1000, embedding_dim=300, \n",
    "                    hidden_dim=[50], num_classes=3, init_val = 0.5):\n",
    "    \n",
    "    W={}\n",
    "    embedding = np.random.uniform(size = (vocab_size,embedding_dim), low = -0.1, high = 0.1)\n",
    "    output_matrix = np.random.uniform(size = (embedding_dim,num_classes), low = -0.1, high = 0.1)\n",
    "    W[0]=embedding\n",
    "    W[1]=output_matrix\n",
    "    \n",
    "    \n",
    "    return W\n",
    "    "
   ]
  },
  {
   "cell_type": "code",
   "execution_count": 239,
   "metadata": {},
   "outputs": [],
   "source": [
    "\n",
    "\n",
    "\n",
    "def network_weights(vocab_size=1000, embedding_dim=300,\n",
    "                    hidden_dims=[50], num_classes=3, init_val=0.5):\n",
    "\n",
    "    W = {}\n",
    "    embedding = np.random.uniform(size=(vocab_size, embedding_dim), low=-0.1, high=0.1)\n",
    "    W[0] = embedding\n",
    "    prev_dim = embedding_dim\n",
    "    # Initialize the weight matrices for the hidden layers\n",
    "    if (len(hidden_dims) != 0) :\n",
    "        for i, hidden_dim in enumerate(hidden_dims):\n",
    "            weight_matrix = np.random.uniform(size=(prev_dim, hidden_dim), low=-0.1, high=0.1)\n",
    "            W[i + 1] = weight_matrix\n",
    "            prev_dim = hidden_dim\n",
    "        output_matrix = np.random.uniform(size=(hidden_dims[-1], num_classes), low=-0.1, high=0.1)\n",
    "        W[len(hidden_dims) + 1] = output_matrix\n",
    "    else:\n",
    "        # Initialize the output matrix\n",
    "        output_matrix = np.random.uniform(size=(embedding_dim, num_classes), low=-0.1, high=0.1)\n",
    "        W[len(hidden_dims) + 1] = output_matrix\n",
    "\n",
    "    return W\n",
    "\n",
    "# Example usage\n",
    "\n",
    "\n"
   ]
  },
  {
   "cell_type": "markdown",
   "metadata": {
    "ExecuteTime": {
     "end_time": "2020-04-01T10:31:57.970152Z",
     "start_time": "2020-04-01T10:31:57.966123Z"
    }
   },
   "source": [
    "Then you need to develop a `softmax` function (same as in Assignment 1) to be used in the output layer. \n",
    "\n",
    "It takes as input `z` (array of real numbers) and returns `sig` (the softmax of `z`)\n",
    "\n"
   ]
  },
  {
   "cell_type": "code",
   "execution_count": 42,
   "metadata": {},
   "outputs": [],
   "source": [
    "#Softmax implementation with x-max(x) to overcome the overflow issue raised.\n",
    "def stable_softmax(x):\n",
    "    z = x - max(x)\n",
    "    numerator = np.exp(z)\n",
    "    denominator = np.sum(numerator)\n",
    "    softmax = numerator/denominator\n",
    "\n",
    "    return softmax.tolist()\n",
    "\n",
    "\n",
    "\n",
    "\n",
    "\n"
   ]
  },
  {
   "cell_type": "markdown",
   "metadata": {},
   "source": [
    "Now you need to implement the categorical cross entropy loss by slightly modifying the function from Assignment 1 to depend only on the true label `y` and the class probabilities vector `y_preds`:\n"
   ]
  },
  {
   "cell_type": "code",
   "execution_count": 41,
   "metadata": {
    "ExecuteTime": {
     "end_time": "2020-04-02T14:26:51.360838Z",
     "start_time": "2020-04-02T14:26:51.356935Z"
    },
    "scrolled": true
   },
   "outputs": [],
   "source": [
    "def categorical_loss(y, y_preds):\n",
    "   \n",
    "    \n",
    "    # Compute the loss\n",
    "    loss = -np.sum(y * np.log(y_preds))\n",
    "    loss = loss/len(y_preds)\n",
    "    \n",
    "    \n",
    "    \n",
    "    \n",
    "    return loss"
   ]
  },
  {
   "cell_type": "markdown",
   "metadata": {
    "ExecuteTime": {
     "end_time": "2020-03-31T15:02:56.149535Z",
     "start_time": "2020-03-31T15:02:56.145738Z"
    }
   },
   "source": [
    "Then, implement the `relu` function to introduce non-linearity after each hidden layer of your network \n",
    "(during the forward pass): \n",
    "\n",
    "$$relu(z_i)= max(z_i,0)$$\n",
    "\n",
    "and the `relu_derivative` function to compute its derivative (used in the backward pass):\n",
    "\n",
    "  \n",
    "  relu_derivative($z_i$)=0, if $z_i$<=0, 1 otherwise.\n",
    "  \n",
    "\n",
    "\n",
    "Note that both functions take as input a vector $z$ \n",
    "\n",
    "Hint use .copy() to avoid in place changes in array z"
   ]
  },
  {
   "cell_type": "code",
   "execution_count": 40,
   "metadata": {
    "ExecuteTime": {
     "end_time": "2020-04-02T14:26:52.665236Z",
     "start_time": "2020-04-02T14:26:52.661519Z"
    },
    "scrolled": true
   },
   "outputs": [],
   "source": [
    "def relu(input_list):\n",
    "    # convert input list to numpy array\n",
    "    input_array = np.array(input_list)\n",
    "    \n",
    "    # apply ReLU function element-wise using numpy\n",
    "    output_array = np.maximum(input_array, 0)\n",
    "    \n",
    "    # convert output array back to list\n",
    "    output_list = output_array.tolist()\n",
    "    \n",
    "    # return the output list\n",
    "    return output_list\n",
    "\n",
    "    \n",
    "    \n",
    "    \n",
    "\n",
    "\n",
    "def relu_derivative(input_list):\n",
    "    # convert input list to numpy array\n",
    "    input_array = np.array(input_list)\n",
    "    \n",
    "    # create an array of zeros with the same shape as the input array\n",
    "    zeros_array = np.zeros_like(input_array)\n",
    "    \n",
    "    # create an array of ones with the same shape as the input array\n",
    "    ones_array = np.ones_like(input_array)\n",
    "    \n",
    "    # set elements in the zeros array to 1 if the corresponding element in the input array is greater than 0\n",
    "    zeros_array[input_array > 0] = 1\n",
    "    \n",
    "    # compute the derivative of the ReLU function element-wise using numpy\n",
    "    output_array = zeros_array * ones_array\n",
    "    \n",
    "    # convert output array back to list\n",
    "    output_list = output_array.tolist()\n",
    "    \n",
    "    # return the output list\n",
    "    return output_list\n"
   ]
  },
  {
   "cell_type": "markdown",
   "metadata": {},
   "source": [
    "During training you should also apply a dropout mask element-wise after the activation function (i.e. vector of ones with a random percentage set to zero). The `dropout_mask` function takes as input:\n",
    "\n",
    "- `size`: the size of the vector that we want to apply dropout\n",
    "- `dropout_rate`: the percentage of elements that will be randomly set to zeros\n",
    "\n",
    "and returns:\n",
    "\n",
    "- `dropout_vec`: a vector with binary values (0 or 1)"
   ]
  },
  {
   "cell_type": "code",
   "execution_count": 36,
   "metadata": {
    "ExecuteTime": {
     "end_time": "2020-04-02T14:26:53.429192Z",
     "start_time": "2020-04-02T14:26:53.425301Z"
    },
    "scrolled": true
   },
   "outputs": [],
   "source": [
    "def dropout_mask(size, dropout_rate):\n",
    "    dropout_vec = np.ones(size)\n",
    "    mask = np.random.rand(size) < dropout_rate\n",
    "    dropout_vec[mask] = 0\n",
    "\n",
    "    \n",
    "    return dropout_vec\n",
    "    \n",
    "    "
   ]
  },
  {
   "cell_type": "code",
   "execution_count": 21,
   "metadata": {
    "ExecuteTime": {
     "end_time": "2020-04-02T14:26:53.853632Z",
     "start_time": "2020-04-02T14:26:53.849944Z"
    },
    "scrolled": true
   },
   "outputs": [
    {
     "name": "stdout",
     "output_type": "stream",
     "text": [
      "[1. 1. 1. 1. 1. 1. 1. 0. 1. 1.]\n",
      "[1. 1. 1. 0. 0. 1. 1. 1. 1. 1.]\n"
     ]
    }
   ],
   "source": [
    "print(dropout_mask(10, 0.2))\n",
    "print(dropout_mask(10, 0.2))"
   ]
  },
  {
   "cell_type": "markdown",
   "metadata": {},
   "source": [
    "Now you need to implement the `forward_pass` function that passes the input x through the network up to the output layer for computing the probability for each class using the weight matrices in `W`. The ReLU activation function should be applied on each hidden layer. \n",
    "\n",
    "- `x`: a list of vocabulary indices each corresponding to a word in the document (input)\n",
    "- `W`: a list of weight matrices connecting each part of the network, e.g. for a network with a hidden and an output layer: W[0] is the weight matrix that connects the input to the first hidden layer, W[1] is the weight matrix that connects the hidden layer to the output layer.\n",
    "- `dropout_rate`: the dropout rate that is used to generate a random dropout mask vector applied after each hidden layer for regularisation.\n",
    "\n",
    "and returns:\n",
    "\n",
    "- `out_vals`: a dictionary of output values from each layer: h (the vector before the activation function), a (the resulting vector after passing h from the activation function), its dropout mask vector; and the prediction vector (probability for each class) from the output layer."
   ]
  },
  {
   "cell_type": "code",
   "execution_count": 295,
   "metadata": {
    "ExecuteTime": {
     "end_time": "2020-04-02T14:26:54.761268Z",
     "start_time": "2020-04-02T14:26:54.753402Z"
    },
    "scrolled": true
   },
   "outputs": [],
   "source": [
    "def forward_pass(x, W, dropout_rate):\n",
    "    \n",
    "    dic = np.array(W[0])\n",
    "    h_vecs = np.zeros(300).astype('float32')\n",
    "    for i in x:\n",
    "        h_vec = np.zeros(300).astype('float32')\n",
    "        #used is instance to avoid any nan values in the vector , to resolve the error raised.\n",
    "        if isinstance(i, int):\n",
    "            \n",
    "            h_vec = dic[i]\n",
    "            #Adding all the embedding vector of n-grams in a document\n",
    "            h_vecs = h_vecs + h_vec\n",
    "            \n",
    "            \n",
    "        else:\n",
    "            \n",
    "            h_vec = np.zeros(300)\n",
    "            h_vecs = h_vecs + h_vec\n",
    "       \n",
    "\n",
    "    out_vals = {}\n",
    "    \n",
    "    #Initialization of lists\n",
    "    #out_vals is a Dictionary used to store all the below mentioned lists A1,A2,Z1,Z2\n",
    "    #A1=[] is to store the embedding vector passed through Relu\n",
    "    #A2=[] to store the output of stable_softmax(Z2)\n",
    "    #Z1=[] to store the initial embedding vector h_vecs\n",
    "    #Z2=[] to store the dot product between A1 and W[1]\n",
    "    A1=[]\n",
    "    A2=[]\n",
    "    Z1=[]\n",
    "    Z2=[]\n",
    "    \n",
    "    \n",
    "    \n",
    "    \n",
    "    dropout_vecs = dropout_mask(300, dropout_rate)\n",
    "    \n",
    "    h_vecs *= dropout_vecs \n",
    "    out_vals = {'Z1': [], 'A1': [], 'Z2': [], 'A2': [], 'Z3': [], 'A3': []}\n",
    "    \n",
    "    \n",
    "    Z1 = h_vecs\n",
    "    out_vals['Z1'].append(Z1)\n",
    "    A1 = relu(Z1)\n",
    "    out_vals['A1'].append(A1)\n",
    "    \n",
    "    Z2 = np.dot(A1,W[1]) #Z1 = 1 * 50\n",
    "    out_vals['Z2'].append(Z2)\n",
    "\n",
    "    # forward pass through output layer\n",
    "    A2=stable_softmax(Z2)\n",
    "    out_vals['A2'].append(A2)\n",
    "    \n",
    "   \n",
    "    \n",
    "    return out_vals\n",
    "    "
   ]
  },
  {
   "cell_type": "code",
   "execution_count": 279,
   "metadata": {},
   "outputs": [
    {
     "data": {
      "text/plain": [
       "[[0.7656803055477004, 0.009001335986667141, 0.2253183584656325]]"
      ]
     },
     "execution_count": 279,
     "metadata": {},
     "output_type": "execute_result"
    }
   ],
   "source": [
    "a = forward_pass(x_dev_train[2], W, dropout_rate=0.4)\n",
    "a['A2']"
   ]
  },
  {
   "cell_type": "markdown",
   "metadata": {},
   "source": [
    "The `backward_pass` function computes the gradients and updates the weights for each matrix in the network from the output to the input. It takes as input \n",
    "\n",
    "- `x`: a list of vocabulary indices each corresponding to a word in the document (input)\n",
    "- `y`: the true label\n",
    "- `W`: a list of weight matrices connecting each part of the network, e.g. for a network with a hidden and an output layer: W[0] is the weight matrix that connects the input to the first hidden layer, W[1] is the weight matrix that connects the hidden layer to the output layer.\n",
    "- `out_vals`: a dictionary of output values from a forward pass.\n",
    "- `learning_rate`: the learning rate for updating the weights.\n",
    "- `freeze_emb`: boolean value indicating whether the embedding weights will be updated.\n",
    "\n",
    "and returns:\n",
    "\n",
    "- `W`: the updated weights of the network.\n",
    "\n",
    "Hint: the gradients on the output layer are similar to the multiclass logistic regression."
   ]
  },
  {
   "cell_type": "code",
   "execution_count": 391,
   "metadata": {},
   "outputs": [],
   "source": [
    "#update_params_AE - is used to update parameters of Average embeddings\n",
    "\n",
    "def update_params_AE(W,dW1,dW2,learningrate,freeze_emb):\n",
    "    if freeze_emb == True:\n",
    "        \n",
    "        W[1]=W[1]-learningrate*dW2\n",
    "    else:\n",
    "        \n",
    "        W[1]=W[1]-learningrate*dW2\n",
    "        W[0]=W[0]-learningrate*dW1\n",
    "    return W"
   ]
  },
  {
   "cell_type": "code",
   "execution_count": 387,
   "metadata": {},
   "outputs": [],
   "source": [
    "def backward_prop( y, W, out_vals, learningrate,print=True,freeze_emb=True):\n",
    "    y=np.array(y)\n",
    "    m = y.size\n",
    "\n",
    "    #dZ2 is used to calculate softmax derivative or difference between predicted and  label document wise.\n",
    "    #dZ1 is used to store dot product of W[1] matrix and A2.T vector\n",
    "    #dW1 and dW2 are the 2 variable used to store the value that is used to update the weights holds the same shape as respective weight matrix w[1] and W[0]\n",
    "    \n",
    "    Z1=np.array(out_vals['Z1'][0]).reshape(1,-1)\n",
    "    Z2=np.array(out_vals['Z2'][0]).reshape(1,-1)\n",
    "    \n",
    "    A1=np.array(out_vals['A1'][0]).reshape(1,-1)\n",
    "    A2= np.array(out_vals['A2'][0]).reshape(1,-1)\n",
    "    \n",
    "    \n",
    "    dZ2 = A2 - y  #1 * 3\n",
    "    dW2 = np.dot(A1.T,dZ2) #300 * 3\n",
    "    \n",
    "    dZ1 = np.dot(W[1],A2.T) * relu_derivative(A1) #300 * 300\n",
    "    dW1 = np.dot(W[0],dZ1) #47003 * 300\n",
    "   \n",
    "    W = update_params_AE(W,dW1,dW2,learningrate,freeze_emb=True)\n",
    "    return W"
   ]
  },
  {
   "cell_type": "code",
   "execution_count": null,
   "metadata": {},
   "outputs": [],
   "source": [
    "\n"
   ]
  },
  {
   "cell_type": "markdown",
   "metadata": {
    "ExecuteTime": {
     "end_time": "2020-02-15T14:08:59.937442Z",
     "start_time": "2020-02-15T14:08:59.932221Z"
    }
   },
   "source": [
    "Finally you need to modify SGD to support back-propagation by using the `forward_pass` and `backward_pass` functions.\n",
    "\n",
    "The `SGD` function takes as input:\n",
    "\n",
    "- `X_tr`: array of training data (vectors)\n",
    "- `Y_tr`: labels of `X_tr`\n",
    "- `W`: the weights of the network (dictionary)\n",
    "- `X_dev`: array of development (i.e. validation) data (vectors)\n",
    "- `Y_dev`: labels of `X_dev`\n",
    "- `lr`: learning rate\n",
    "- `dropout`: regularisation strength\n",
    "- `epochs`: number of full passes over the training data\n",
    "- `tolerance`: stop training if the difference between the current and previous validation loss is smaller than a threshold\n",
    "- `freeze_emb`: boolean value indicating whether the embedding weights will be updated (to be used by the backward pass function).\n",
    "- `print_progress`: flag for printing the training progress (train/validation loss)\n",
    "\n",
    "\n",
    "and returns:\n",
    "\n",
    "- `weights`: the weights learned\n",
    "- `training_loss_history`: an array with the average losses of the whole training set after each epoch\n",
    "- `validation_loss_history`: an array with the average losses of the whole development set after each epoch"
   ]
  },
  {
   "cell_type": "code",
   "execution_count": null,
   "metadata": {},
   "outputs": [],
   "source": []
  },
  {
   "cell_type": "code",
   "execution_count": 389,
   "metadata": {},
   "outputs": [],
   "source": [
    "def SGD(X_tr, Y_tr,X_dev,Y_dev ,W, learningrate, dropout, epochs=5,print_progress=True, tolerance = 0.001, freeze_emb = True):\n",
    "    #To store the history of losses of train and dev data to plot and analyse .\n",
    "    training_loss_history = []\n",
    "    validation_loss_history = []\n",
    "    count=0\n",
    "    \n",
    "    for epoch in range(epochs):\n",
    "        \n",
    "\n",
    "\n",
    "\n",
    "        #shuffling the training data\n",
    "        # pair the elements of the two lists using zip()\n",
    "        paired_lists = list(zip(X_tr, Y_tr))\n",
    "\n",
    "        # shuffle the paired lists\n",
    "        random.shuffle(paired_lists)\n",
    "\n",
    "        # unzip the paired lists back into separate lists\n",
    "        shuffled_list1, shuffled_list2 = zip(*paired_lists)\n",
    "            \n",
    "        \n",
    "        # initialize training loss for this epoch\n",
    "        train_loss = 0.0\n",
    "        \n",
    "        accuracy = 0.0\n",
    "        accuracy_percentage = 0.0\n",
    "        accuracy_dev = 0.0\n",
    "        accuracy_percentage_val = 0.0\n",
    "        val_loss = 0.0\n",
    "        \n",
    "        \n",
    "      # perform stochastic gradient descent on the training data\n",
    "        for i in range(len(X_tr)):\n",
    "            loss1= 0.0\n",
    "            loss = 0.0\n",
    "            y_preds=[]\n",
    "            y_preds1=[]\n",
    "            out_vals=[]\n",
    "            out_put=[]\n",
    "            x1 =[]\n",
    "            y=[]\n",
    "            y1=[]\n",
    "            predicted_label = []\n",
    "            predicted_label_dev=[]\n",
    "            true_label = []\n",
    "            true_label_dev=[]\n",
    "\n",
    "            \n",
    "            x = shuffled_list1[i]\n",
    "            y = shuffled_list2[i]\n",
    "\n",
    "            # perform forward pass\n",
    "            out_vals = forward_pass(x, W, dropout_rate=dropout)\n",
    "            W = backward_prop( y, W, out_vals, learningrate,freeze_emb=True)\n",
    "            \n",
    "            y_preds = out_vals['A2'][0]\n",
    "            \n",
    "            loss = categorical_loss(y,y_preds)\n",
    "            train_loss = train_loss + loss\n",
    "            predicted_label = np.argmax(y_preds)\n",
    "            true_label = np.argmax(y)\n",
    "            if (predicted_label == true_label):\n",
    "                 accuracy = accuracy + 1\n",
    "            # compute loss and update training loss for this epoch\n",
    "     \n",
    "        # compute average training loss for this epoch\n",
    "        train_loss = train_loss / len(X_tr)\n",
    "        accuracy_percentage = (accuracy / len(X_tr))*100\n",
    "        \n",
    "        \n",
    "        # compute validation loss for this epoch\n",
    "        \n",
    "        for i in range(len(X_dev)):\n",
    "            x1 = X_dev[i]\n",
    "            y1 = Y_dev[i]\n",
    "\n",
    "            # perform forward pass\n",
    "            out_put = forward_pass(x1, W, dropout_rate=dropout)\n",
    "\n",
    "            #compute loss and update validation loss for this epoch\n",
    "            y_preds1 = out_put['A2'][0]\n",
    "            loss1 = categorical_loss(y1, y_preds1)\n",
    "            val_loss = val_loss + loss1\n",
    "            predicted_label_dev = np.argmax(y_preds1)\n",
    "            true_label_dev = np.argmax(y1)\n",
    "            if (predicted_label_dev == true_label_dev):\n",
    "                 accuracy_dev = accuracy_dev + 1\n",
    "        # compute average validation loss for this epoch\n",
    "        val_loss = val_loss / len(X_dev)\n",
    "        accuracy_percentage_val = (accuracy_dev / len(X_dev))*100\n",
    "        \n",
    "        # save loss history for plotting later\n",
    "        training_loss_history.append(train_loss)\n",
    "        validation_loss_history.append(val_loss)\n",
    "\n",
    "        # print progress if desired\n",
    "        if print_progress:\n",
    "            print(f\"Epoch {epoch+1} - Training Loss: {train_loss:.4f} - Train_Accuracy: {accuracy_percentage:.4f}- val Loss: {val_loss:.4f} - val_Accuracy: {accuracy_percentage_val:.4f}\")\n",
    "        \n",
    "\n",
    "        # check if improvement is smaller than tolerance and stop training if true\n",
    "        #if epoch > 0 and (validation_loss_history[-2] - validation_loss_history[-1])  < tolerance:\n",
    "            \n",
    "            #print(f\"\\nTraining stopped after {epoch+1} epochs due to small improvement in validation loss.\")\n",
    "            #break\n",
    "\n",
    "    return W, training_loss_history, validation_loss_history\n"
   ]
  },
  {
   "cell_type": "code",
   "execution_count": null,
   "metadata": {},
   "outputs": [],
   "source": [
    "\n"
   ]
  },
  {
   "cell_type": "markdown",
   "metadata": {
    "ExecuteTime": {
     "end_time": "2020-02-15T14:10:15.772383Z",
     "start_time": "2020-02-15T14:10:15.767855Z"
    }
   },
   "source": [
    "Now you are ready to train and evaluate your neural net. First, you need to define your network using the `network_weights` function followed by SGD with backprop:"
   ]
  },
  {
   "cell_type": "code",
   "execution_count": 392,
   "metadata": {
    "ExecuteTime": {
     "end_time": "2020-04-02T15:09:33.643515Z",
     "start_time": "2020-04-02T15:09:33.640943Z"
    },
    "scrolled": true
   },
   "outputs": [
    {
     "name": "stdout",
     "output_type": "stream",
     "text": [
      "Epoch 1 - Training Loss: 0.3758 - Train_Accuracy: 36.7500- val Loss: 0.8542 - val_Accuracy: 37.3333\n",
      "Epoch 2 - Training Loss: 0.3604 - Train_Accuracy: 41.5000- val Loss: 1.2838 - val_Accuracy: 30.6667\n",
      "Epoch 3 - Training Loss: 0.3496 - Train_Accuracy: 44.6667- val Loss: 1.0477 - val_Accuracy: 32.6667\n",
      "Epoch 4 - Training Loss: 0.3494 - Train_Accuracy: 46.7083- val Loss: 1.5127 - val_Accuracy: 38.6667\n",
      "Epoch 5 - Training Loss: 0.3460 - Train_Accuracy: 47.0833- val Loss: 1.5161 - val_Accuracy: 36.0000\n"
     ]
    }
   ],
   "source": [
    "W = network_weights(vocab_size=len(vocab_list_feature),embedding_dim=300,\n",
    "                    hidden_dims=[], num_classes=3)\n",
    "\n",
    "\n",
    "\n",
    "W, loss_tr, dev_loss = SGD(train_set, y_label,x_dev_train,y_dev_label,\n",
    "                            W,learningrate=0.001, \n",
    "                            dropout=0.4,epochs=5,print_progress=True,tolerance = 0.001,freeze_emb=False)\n"
   ]
  },
  {
   "cell_type": "markdown",
   "metadata": {},
   "source": [
    "Plot the learning process:"
   ]
  },
  {
   "cell_type": "code",
   "execution_count": 393,
   "metadata": {
    "ExecuteTime": {
     "end_time": "2020-04-02T14:27:15.716497Z",
     "start_time": "2020-04-02T14:27:15.612736Z"
    },
    "scrolled": true
   },
   "outputs": [
    {
     "data": {
      "text/plain": [
       "<Axes: title={'center': 'Validation Loss'}>"
      ]
     },
     "execution_count": 393,
     "metadata": {},
     "output_type": "execute_result"
    },
    {
     "data": {
      "image/png": "[encoded data removed]",
      "text/plain": [
       "<Figure size 1000x250 with 2 Axes>"
      ]
     },
     "metadata": {},
     "output_type": "display_data"
    }
   ],
   "source": [
    "plots = {'Training': loss_tr,'Validation':dev_loss}\n",
    "plots_df = pd.DataFrame(plots)\n",
    "fig, axes = plt.subplots(1,2, figsize=(10, 2.5))\n",
    "plots_df.Training.plot(ax = axes[0], title = \"Training Loss\")\n",
    "plots_df.Validation.plot(ax = axes[1], title = \"Validation Loss\")"
   ]
  },
  {
   "cell_type": "code",
   "execution_count": null,
   "metadata": {},
   "outputs": [],
   "source": [
    "Compute accuracy, precision, recall and F1-Score:"
   ]
  },
  {
   "cell_type": "code",
   "execution_count": 297,
   "metadata": {
    "ExecuteTime": {
     "end_time": "2020-04-02T15:10:11.037495Z",
     "start_time": "2020-04-02T15:10:11.034999Z"
    },
    "scrolled": true
   },
   "outputs": [
    {
     "name": "stdout",
     "output_type": "stream",
     "text": [
      "Accuracy: 0.3333333333333333\n",
      "Precision: 0.1111111111111111\n",
      "Recall: 0.3333333333333333\n",
      "F1-Score: 0.16666666666666666\n"
     ]
    },
    {
     "name": "stderr",
     "output_type": "stream",
     "text": [
      "/Users/ankit/opt/anaconda3/envs/ankit_env/lib/python3.9/site-packages/sklearn/metrics/_classification.py:1344: UndefinedMetricWarning: Precision is ill-defined and being set to 0.0 in labels with no predicted samples. Use `zero_division` parameter to control this behavior.\n",
      "  _warn_prf(average, modifier, msg_start, len(result))\n"
     ]
    },
    {
     "data": {
      "text/plain": [
       "95"
      ]
     },
     "execution_count": 297,
     "metadata": {},
     "output_type": "execute_result"
    }
   ],
   "source": [
    "preds_te = [np.argmax(forward_pass(x, W, dropout_rate=0.0)['A2']) \n",
    "            for x,y in zip(x_test_train,y_test_label)]\n",
    "#add +1 to all element in preds_te\n",
    "preds_te = [x+1 for x in preds_te]\n",
    "print('Accuracy:', accuracy_score(y_test_true,preds_te))\n",
    "print('Precision:', precision_score(y_test_true,preds_te,average='macro'))\n",
    "print('Recall:', recall_score(y_test_true,preds_te,average='macro'))\n",
    "print('F1-Score:', f1_score(y_test_true,preds_te,average='macro'))\n",
    "del W\n",
    "gc.collect()"
   ]
  },
  {
   "cell_type": "markdown",
   "metadata": {},
   "source": [
    "### Discuss how did you choose model hyperparameters ? "
   ]
  },
  {
   "cell_type": "markdown",
   "metadata": {},
   "source": [
    "#To choose the model Hyperparameter tried 3 different possibility of learning rate and dropout.\n",
    "1.learning-rate =0.0003  , Dropout - 0.1\n",
    "Epoch 1 - Training Loss: 0.3795 - Train_Accuracy: 33.4167- val Loss: 1.0621 - val_Accuracy: 29.3333\n",
    "Epoch 2 - Training Loss: 0.3717 - Train_Accuracy: 37.3750- val Loss: 1.3668 - val_Accuracy: 34.0000\n",
    "\n",
    "2.learning-rate = 0.0002 , Dropout - 0.4\n",
    "Epoch 1 - Training Loss: 0.4099 - Train_Accuracy: 33.3333- val Loss: 1.8267 - val_Accuracy: 32.0000\n",
    "Epoch 2 - Training Loss: 0.3846 - Train_Accuracy: 33.5417- val Loss: 1.2724 - val_Accuracy: 30.0000\n",
    "Epoch 3 - Training Loss: 0.3806 - Train_Accuracy: 33.7917- val Loss: 1.1476 - val_Accuracy: 37.3333\n",
    "\n",
    "\n",
    "3.learning-rate = 0.0002 , Dropout - 0.5\n",
    "Epoch 1 - Training Loss: 0.3792 - Train_Accuracy: 33.5417- val Loss: 1.1419 - val_Accuracy: 39.3333\n",
    "Epoch 2 - Training Loss: 0.3785 - Train_Accuracy: 34.2083- val Loss: 1.2372 - val_Accuracy: 35.3333\n",
    "Epoch 3 - Training Loss: 0.3717 - Train_Accuracy: 35.9167- val Loss: 1.0575 - val_Accuracy: 36.0000\n",
    "Epoch 4 - Training Loss: 0.3705 - Train_Accuracy: 37.3333- val Loss: 0.9454 - val_Accuracy: 36.0000\n",
    "\n",
    "\n",
    "\n",
    "Conclusion- model is performing good with training data but is unstable with validation data , on incresing the dropout to 0.4/0.5 model performs comparatively better as in case of case 3."
   ]
  },
  {
   "cell_type": "code",
   "execution_count": null,
   "metadata": {
    "scrolled": true
   },
   "outputs": [],
   "source": []
  },
  {
   "cell_type": "markdown",
   "metadata": {},
   "source": [
    "# Use Pre-trained Embeddings\n",
    "\n",
    "Now re-train the network using GloVe pre-trained embeddings. You need to modify the `backward_pass` function above to stop computing gradients and updating weights of the embedding matrix.\n",
    "\n",
    "Use the function below to obtain the embedding martix for your vocabulary. Generally, that should work without any problem. If you get errors, you can modify it."
   ]
  },
  {
   "cell_type": "code",
   "execution_count": 375,
   "metadata": {
    "ExecuteTime": {
     "end_time": "2020-04-02T14:27:32.020697Z",
     "start_time": "2020-04-02T14:27:32.015733Z"
    },
    "scrolled": true
   },
   "outputs": [],
   "source": [
    "def get_glove_embeddings(f_zip, f_txt, vocab, emb_size=300):\n",
    "    \n",
    "    w_emb = np.zeros((len(vocab), emb_size))\n",
    "    \n",
    "    with zipfile.ZipFile(f_zip) as z:\n",
    "        with z.open(f_txt) as f:\n",
    "            for line in f:\n",
    "                line = line.decode('utf-8')\n",
    "                word = line.split()[0]\n",
    "                     \n",
    "                if word in vocab:\n",
    "                    emb = np.array(line.strip('\\n').split()[1:]).astype(np.float32)\n",
    "                    w_emb[vocab[word]] +=emb\n",
    "    return w_emb"
   ]
  },
  {
   "cell_type": "code",
   "execution_count": 154,
   "metadata": {
    "ExecuteTime": {
     "end_time": "2020-04-02T14:28:54.548613Z",
     "start_time": "2020-04-02T14:27:32.780248Z"
    },
    "scrolled": true
   },
   "outputs": [],
   "source": [
    "w_glove = get_glove_embeddings(\"glove.840B.300d.zip\",\"glove.840B.300d.txt\",word_id_vocab,emb_size=300 )"
   ]
  },
  {
   "cell_type": "code",
   "execution_count": 163,
   "metadata": {},
   "outputs": [
    {
     "data": {
      "text/plain": [
       "(12125, 300)"
      ]
     },
     "execution_count": 163,
     "metadata": {},
     "output_type": "execute_result"
    }
   ],
   "source": [
    "w_glove.shape"
   ]
  },
  {
   "cell_type": "markdown",
   "metadata": {},
   "source": [
    "First, initialise the weights of your network using the `network_weights` function. Second, replace the weigths of the embedding matrix with `w_glove`. Finally, train the network by freezing the embedding weights: "
   ]
  },
  {
   "cell_type": "code",
   "execution_count": 395,
   "metadata": {
    "ExecuteTime": {
     "end_time": "2020-04-02T14:30:11.121198Z",
     "start_time": "2020-04-02T14:29:24.946124Z"
    },
    "scrolled": true
   },
   "outputs": [
    {
     "name": "stdout",
     "output_type": "stream",
     "text": [
      "Epoch 1 - Training Loss: 0.4758 - Train_Accuracy: 50.9583- val Loss: 4.8964 - val_Accuracy: 30.6667\n",
      "Epoch 2 - Training Loss: 0.3118 - Train_Accuracy: 63.8750- val Loss: 3.9341 - val_Accuracy: 30.6667\n",
      "Epoch 3 - Training Loss: 0.2785 - Train_Accuracy: 69.0833- val Loss: 3.2468 - val_Accuracy: 38.0000\n",
      "Epoch 4 - Training Loss: 0.2408 - Train_Accuracy: 71.4583- val Loss: 3.6602 - val_Accuracy: 32.0000\n",
      "Epoch 5 - Training Loss: 0.2366 - Train_Accuracy: 73.0000- val Loss: 3.0714 - val_Accuracy: 32.0000\n"
     ]
    }
   ],
   "source": [
    "W = network_weights(vocab_size=len(vocab_list_feature),embedding_dim=300,\n",
    "                    hidden_dims=[], num_classes=3)\n",
    "W[0]=w_glove\n",
    "W, loss_tr, dev_loss = SGD(train_set, y_label,x_dev_train,y_dev_label,\n",
    "                            W,learningrate=0.0001, \n",
    "                            dropout=0.5,epochs=5,print_progress=True,freeze_emb=True)"
   ]
  },
  {
   "cell_type": "code",
   "execution_count": 396,
   "metadata": {},
   "outputs": [
    {
     "data": {
      "text/plain": [
       "<Axes: title={'center': 'Validation Loss'}>"
      ]
     },
     "execution_count": 396,
     "metadata": {},
     "output_type": "execute_result"
    },
    {
     "data": {
      "image/png": "[encoded data removed]",
      "text/plain": [
       "<Figure size 1000x250 with 2 Axes>"
      ]
     },
     "metadata": {},
     "output_type": "display_data"
    }
   ],
   "source": [
    "plots = {'Training': loss_tr,'Validation':dev_loss}\n",
    "plots_df = pd.DataFrame(plots)\n",
    "fig, axes = plt.subplots(1,2, figsize=(10, 2.5))\n",
    "plots_df.Training.plot(ax = axes[0], title = \"Training Loss\")\n",
    "plots_df.Validation.plot(ax = axes[1], title = \"Validation Loss\")"
   ]
  },
  {
   "cell_type": "code",
   "execution_count": 400,
   "metadata": {
    "ExecuteTime": {
     "end_time": "2020-04-02T15:12:00.815184Z",
     "start_time": "2020-04-02T15:12:00.812563Z"
    },
    "scrolled": true
   },
   "outputs": [
    {
     "name": "stdout",
     "output_type": "stream",
     "text": [
      "Accuracy: 0.33444444444444443\n",
      "Precision: 0.34344541654397176\n",
      "Recall: 0.3344444444444445\n",
      "F1-Score: 0.3262183060880515\n"
     ]
    }
   ],
   "source": [
    "preds_te1 = [np.argmax(forward_pass(x, W, dropout_rate=0.4)['A2']) \n",
    "            for x,y in zip(x_test_train,y_test_label)]\n",
    "#add +1 to all element in preds_te\n",
    "preds_te1 = [x+1 for x in preds_te1]\n",
    "print('Accuracy:', accuracy_score(y_test_true,preds_te1))\n",
    "print('Precision:', precision_score(y_test_true,preds_te1,average='macro'))\n",
    "print('Recall:', recall_score(y_test_true,preds_te1,average='macro'))\n",
    "print('F1-Score:', f1_score(y_test_true,preds_te1,average='macro'))\n",
    "del W\n",
    "gc.collect()"
   ]
  },
  {
   "cell_type": "markdown",
   "metadata": {},
   "source": [
    "### Discuss how did you choose model hyperparameters ? "
   ]
  },
  {
   "cell_type": "markdown",
   "metadata": {},
   "source": [
    "#To choose the model Hyperparameter tried 3 different possibility of learning rate and dropout.\n",
    "1.learning-rate =0.0001  , Dropout - 0.4\n",
    "Epoch 1 - Training Loss: 0.3795 - Train_Accuracy: 53.4167- val Loss: 20.0621 - val_Accuracy: 29.3333\n",
    "Epoch 2 - Training Loss: 0.2717 - Train_Accuracy: 57.3750- val Loss: 15.3668 - val_Accuracy: 34.0000\n",
    "\n",
    "2.learning-rate = 0.0001 , Dropout - 0.1\n",
    "Epoch 1 - Training Loss: 0.3792 - Train_Accuracy: 59.9583- val Loss: 4.9970 - val_Accuracy: 36.6667\n",
    "Epoch 2 - Training Loss: 0.2464 - Train_Accuracy: 76.2083- val Loss: 4.6563 - val_Accuracy: 37.3333\n",
    "Epoch 3 - Training Loss: 0.2447 - Train_Accuracy: 78.0417- val Loss: 4.6404 - val_Accuracy: 35.3333\n",
    "\n",
    "\n",
    "3.learning-rate = 0.0001 , Dropout - 0.5\n",
    "Epoch 1 - Training Loss: 0.4758 - Train_Accuracy: 50.9583- val Loss: 4.8964 - val_Accuracy: 30.6667\n",
    "Epoch 2 - Training Loss: 0.3118 - Train_Accuracy: 63.8750- val Loss: 3.9341 - val_Accuracy: 30.6667\n",
    "Epoch 3 - Training Loss: 0.2785 - Train_Accuracy: 69.0833- val Loss: 3.2468 - val_Accuracy: 38.0000\n",
    "\n",
    "\n",
    "\n",
    "Conclusion- Model is performing good with training data also slightly stable with validation data compare to average embedding, on incresing the dropout to 0.5 model performs comparatively better, it reduces the overfitting issue faced in Average embedding case."
   ]
  },
  {
   "cell_type": "markdown",
   "metadata": {},
   "source": [
    "# Extend to support deeper architectures \n",
    "\n",
    "Extend the network to support back-propagation for more hidden layers. You need to modify the `backward_pass` function above to compute gradients and update the weights between intermediate hidden layers. Finally, train and evaluate a network with a deeper architecture. Do deeper architectures increase performance?"
   ]
  },
  {
   "cell_type": "code",
   "execution_count": 311,
   "metadata": {},
   "outputs": [],
   "source": [
    "def forward_pass_DA(x, W, dropout_rate):\n",
    "    \n",
    "    dic = np.array(W[0])\n",
    "    h_vecs = np.zeros(300).astype('float32')\n",
    "    for i in x:\n",
    "        h_vec = np.zeros(300).astype('float32')\n",
    "        if isinstance(i, int):\n",
    "            \n",
    "            h_vec = dic[i]\n",
    "            #Adding all the embedding vector of n-grams in a document\n",
    "            h_vecs = h_vecs + h_vec\n",
    "            \n",
    "            \n",
    "        else:\n",
    "            \n",
    "            h_vec = np.zeros(300)\n",
    "            h_vecs = h_vecs + h_vec\n",
    "       \n",
    "\n",
    "    out_vals = {}\n",
    "    #Initialization of lists\n",
    "    #out_vals is a Dictionary used to store all the below mentioned lists A1,A2,A3Z1,Z2,Z3\n",
    "    #A1=[] is to store the embedding vector passed through Relu\n",
    "    #A2=[] to store the output of Relu(Z2)\n",
    "    #A3=[] to store the output of stable_softmax(Z3)\n",
    "    #Z1=[] to store the initial embedding vector h_vecs\n",
    "    #Z2=[] to store the dot product between A1 and W[1]\n",
    "    #Z3=[] to store the dot product between A2 and W[2]\n",
    "    \n",
    "    A1=[]\n",
    "    A2=[]\n",
    "    Z1=[]\n",
    "    Z2=[]\n",
    "    A3=[]\n",
    "    Z3=[]\n",
    "    \n",
    "    \n",
    "    dropout_vecs = dropout_mask(300, dropout_rate)\n",
    "    \n",
    "    h_vecs *= dropout_vecs \n",
    "    out_vals = {'Z1': [], 'A1': [], 'Z2': [], 'A2': [], 'Z3': [], 'A3': []}\n",
    "    \n",
    "    \n",
    "    Z1 = h_vecs\n",
    "    \n",
    "    out_vals['Z1'].append(Z1)\n",
    "    A1 = relu(Z1)\n",
    "    out_vals['A1'].append(A1)\n",
    "    \n",
    "    Z2 = np.dot(A1,W[1]) \n",
    "    out_vals['Z2'].append(Z2)\n",
    "    A2 = relu(Z2)\n",
    "    out_vals['A2'].append(A2)\n",
    "    Z3 = np.dot(A2,W[2])\n",
    "    out_vals['Z3'].append(Z3)\n",
    "    A3=stable_softmax(Z3)\n",
    "        \n",
    "    \n",
    "    # forward pass through output layer\n",
    "    out_vals['A3'].append(A3)\n",
    "   \n",
    "    \n",
    "    return out_vals\n",
    "    "
   ]
  },
  {
   "cell_type": "code",
   "execution_count": 346,
   "metadata": {},
   "outputs": [],
   "source": [
    "def update_params(W,dW2,dW3,learningrate,freeze_emb):\n",
    "    if freeze_emb == True:\n",
    "        W[2]=W[2]-learningrate*dW3\n",
    "        W[1]=W[1]-learningrate*dW2\n",
    "\n",
    "    return W"
   ]
  },
  {
   "cell_type": "code",
   "execution_count": 347,
   "metadata": {
    "ExecuteTime": {
     "end_time": "2020-04-02T14:58:51.764619Z",
     "start_time": "2020-04-02T14:58:47.483690Z"
    },
    "scrolled": true
   },
   "outputs": [],
   "source": [
    "def backward_prop_DA( y, W, out_vals, learningrate,print=True,freeze_emb=True):\n",
    "    y=np.array(y)\n",
    "    m = y.size\n",
    "\n",
    "    \n",
    "    \n",
    "    Z1=np.array(out_vals['Z1'][0]).reshape(1,-1)\n",
    "    Z2=np.array(out_vals['Z2'][0]).reshape(1,-1)\n",
    "    Z3=np.array(out_vals['Z3'][0]).reshape(1,-1)\n",
    "    A1=np.array(out_vals['A1'][0]).reshape(1,-1)\n",
    "    A2= np.array(out_vals['A2'][0]).reshape(1,-1)\n",
    "    A3= np.array(out_vals['A3'][0]).reshape(1,-1)\n",
    "    \n",
    "    dZ3 = A3 - y  \n",
    "    dW3 = np.dot(A2.T,dZ3)\n",
    "    \n",
    "    dZ2 = np.dot(W[2],dZ3.T) * relu_derivative(A2) \n",
    "    dW2 = np.dot(W[1],dZ2) \n",
    "    \n",
    "    \n",
    "\n",
    "    if freeze_emb == True:\n",
    "        W = update_params(W,dW2,dW3,learningrate,freeze_emb=True)\n",
    "       \n",
    "    \n",
    "    \n",
    "    return W"
   ]
  },
  {
   "cell_type": "code",
   "execution_count": 348,
   "metadata": {},
   "outputs": [],
   "source": [
    "def SGD_DA(X_tr, Y_tr,X_dev,Y_dev ,W, lr, dropout, epochs=5,print_progress=True,freeze_emb=False):\n",
    "    training_loss_history = []\n",
    "    validation_loss_history = []\n",
    "    \n",
    "    for epoch in range(epochs):\n",
    "        \n",
    "\n",
    "\n",
    "\n",
    "        #shuffling the training data\n",
    "        # pair the elements of the two lists using zip()\n",
    "        paired_lists = list(zip(X_tr, Y_tr))\n",
    "\n",
    "        # shuffle the paired lists\n",
    "        random.shuffle(paired_lists)\n",
    "\n",
    "        # unzip the paired lists back into separate lists\n",
    "        shuffled_list1, shuffled_list2 = zip(*paired_lists)\n",
    "            \n",
    "        \n",
    "        # initialize training loss for this epoch\n",
    "        train_loss = 0.0\n",
    "        loss = 0.0\n",
    "        accuracy = 0.0\n",
    "        accuracy_percentage = 0.0\n",
    "        accuracy_dev = 0.0\n",
    "        accuracy_percentage_val = 0.0\n",
    "        val_loss = 0.0\n",
    "        loss1= 0.0\n",
    "        \n",
    "      # perform stochastic gradient descent on the training data\n",
    "        for i in range(len(X_tr)):\n",
    "            y_preds=[]\n",
    "            y_preds1=[]\n",
    "            out_vals=[]\n",
    "            out_put=[]\n",
    "            y=[]\n",
    "            y1=[]\n",
    "            predicted_label = []\n",
    "            predicted_label_dev=[]\n",
    "            true_label = []\n",
    "            true_label_dev=[]\n",
    "\n",
    "            #shuffled x and y\n",
    "            x = shuffled_list1[i]\n",
    "            y = shuffled_list2[i]\n",
    "\n",
    "            # perform forward pass\n",
    "            out_vals = forward_pass_DA(x, W, dropout_rate=dropout)\n",
    "            W = backward_prop_DA( y, W, out_vals, lr,freeze_emb)\n",
    "            \n",
    "            y_preds = out_vals['A3'][0]\n",
    "            \n",
    "            loss = categorical_loss(y,y_preds)\n",
    "            train_loss = train_loss + loss\n",
    "            predicted_label = np.argmax(y_preds)\n",
    "            true_label = np.argmax(y)\n",
    "            if (predicted_label == true_label):\n",
    "                 accuracy = accuracy + 1\n",
    "            # compute loss and update training loss for this epoch\n",
    "     \n",
    "        # compute average training loss for this epoch\n",
    "        train_loss = train_loss / len(X_tr)\n",
    "        accuracy_percentage = (accuracy / len(X_tr))*100\n",
    "        \n",
    "        \n",
    "        # compute validation loss for this epoch\n",
    "        \n",
    "        for i in range(len(X_dev)):\n",
    "            x1 = X_dev[i]\n",
    "            y1 = Y_dev[i]\n",
    "\n",
    "            # perform forward pass\n",
    "            out_put = forward_pass_DA(x1, W, dropout_rate=dropout)\n",
    "\n",
    "            #compute loss and update validation loss for this epoch\n",
    "            y_preds1 = out_put['A3'][0]\n",
    "            loss1 = categorical_loss(y1, y_preds1)\n",
    "            val_loss =val_loss + loss1\n",
    "            predicted_label_dev = np.argmax(y_preds1)\n",
    "            true_label_dev = np.argmax(y1)\n",
    "            if (predicted_label_dev == true_label_dev):\n",
    "                 accuracy_dev = accuracy_dev + 1\n",
    "        # compute average validation loss for this epoch\n",
    "        val_loss =val_loss / len(X_dev)\n",
    "        accuracy_percentage_val = (accuracy_dev / len(X_dev))*100\n",
    "        \n",
    "        # save loss history for plotting later\n",
    "        training_loss_history.append(train_loss)\n",
    "        validation_loss_history.append(val_loss)\n",
    "\n",
    "        # print progress if desired\n",
    "        if print_progress:\n",
    "            print(f\"Epoch {epoch+1} - Training Loss: {train_loss:.4f} - Train_Accuracy: {accuracy_percentage:.4f}- val Loss: {val_loss:.4f} - val_Accuracy: {accuracy_percentage_val:.4f}\")\n",
    "        \n",
    "\n",
    "        # check if improvement is smaller than tolerance and stop training if true\n",
    "        if epoch > 0 and (validation_loss_history[-2] - validation_loss_history[-1]) < tolerance:\n",
    "            print(f\"\\nTraining stopped after {epoch+1} epochs due to small improvement in validation loss.\")\n",
    "            break\n",
    "\n",
    "    return W, training_loss_history, validation_loss_history\n"
   ]
  },
  {
   "cell_type": "code",
   "execution_count": 404,
   "metadata": {},
   "outputs": [
    {
     "name": "stdout",
     "output_type": "stream",
     "text": [
      "Epoch 1 - Training Loss: 0.3596 - Train_Accuracy: 51.1250- val Loss: 3.8743 - val_Accuracy: 34.0000\n",
      "Epoch 2 - Training Loss: 0.3219 - Train_Accuracy: 57.0417- val Loss: 3.3658 - val_Accuracy: 26.6667\n",
      "Epoch 3 - Training Loss: 0.3099 - Train_Accuracy: 58.9583- val Loss: 2.6263 - val_Accuracy: 38.0000\n",
      "Epoch 4 - Training Loss: 0.3082 - Train_Accuracy: 60.5833- val Loss: 2.7420 - val_Accuracy: 33.3333\n",
      "Epoch 5 - Training Loss: 0.3064 - Train_Accuracy: 61.0833- val Loss: 2.6527 - val_Accuracy: 36.0000\n"
     ]
    }
   ],
   "source": [
    "W = network_weights(vocab_size=len(vocab_list_feature),embedding_dim=300,\n",
    "                    hidden_dims=[64], num_classes=3)\n",
    "W[0]=w_glove\n",
    "W, loss_tr, dev_loss = SGD_DA(train_set, y_label,x_dev_train,y_dev_label,\n",
    "                            W,lr=0.001, \n",
    "                            dropout=0.4,epochs=5,print_progress=True,freeze_emb=True)"
   ]
  },
  {
   "cell_type": "code",
   "execution_count": 405,
   "metadata": {},
   "outputs": [
    {
     "data": {
      "text/plain": [
       "<Axes: title={'center': 'Validation Loss'}>"
      ]
     },
     "execution_count": 405,
     "metadata": {},
     "output_type": "execute_result"
    },
    {
     "data": {
      "image/png": "[encoded data removed]",
      "text/plain": [
       "<Figure size 1000x250 with 2 Axes>"
      ]
     },
     "metadata": {},
     "output_type": "display_data"
    }
   ],
   "source": [
    "plots = {'Training': loss_tr,'Validation':dev_loss}\n",
    "plots_df = pd.DataFrame(plots)\n",
    "fig, axes = plt.subplots(1,2, figsize=(10, 2.5))\n",
    "plots_df.Training.plot(ax = axes[0], title = \"Training Loss\")\n",
    "plots_df.Validation.plot(ax = axes[1], title = \"Validation Loss\")"
   ]
  },
  {
   "cell_type": "code",
   "execution_count": 463,
   "metadata": {
    "ExecuteTime": {
     "end_time": "2020-04-02T15:11:51.994986Z",
     "start_time": "2020-04-02T15:11:51.992563Z"
    },
    "scrolled": true
   },
   "outputs": [
    {
     "name": "stdout",
     "output_type": "stream",
     "text": [
      "Accuracy: 0.34555555555555556\n",
      "Precision: 0.3400611793901718\n",
      "Recall: 0.34555555555555556\n",
      "F1-Score: 0.30825034040730503\n"
     ]
    }
   ],
   "source": [
    "preds_te2 = [np.argmax(forward_pass_DA(x, W, dropout_rate=0.3)['A3']) \n",
    "            for x,y in zip(x_test_train,y_test_label)]\n",
    "#add +1 to all element in preds_te\n",
    "preds_te2 = [x+1 for x in preds_te2]\n",
    "print('Accuracy:', accuracy_score(y_test_true,preds_te2))\n",
    "print('Precision:', precision_score(y_test_true,preds_te2,average='macro'))\n",
    "print('Recall:', recall_score(y_test_true,preds_te2,average='macro'))\n",
    "print('F1-Score:', f1_score(y_test_true,preds_te2,average='macro'))\n",
    "del W\n",
    "gc.collect()"
   ]
  },
  {
   "cell_type": "markdown",
   "metadata": {},
   "source": [
    "### Discuss how did you choose model hyperparameters ? "
   ]
  },
  {
   "cell_type": "code",
   "execution_count": null,
   "metadata": {},
   "outputs": [],
   "source": []
  },
  {
   "cell_type": "markdown",
   "metadata": {},
   "source": [
    "## Full Results\n",
    "\n",
    "Add your final results here:\n",
    "\n",
    "| Model | Precision  | Recall  | F1-Score  | Accuracy\n",
    "|:-:|:-:|:-:|:-:|:-:|\n",
    "| Average Embedding  |0.1111111111111111 |0.3333333333333333   |0.16666666666666666   |0.3333333333333333  |\n",
    "| Average Embedding (Pre-trained)  | 0.34344541654397176  | 0.3344444444444445  | 0.3262183060880515  |0.33444444444444443   |\n",
    "| Average Embedding (Pre-trained) + X hidden layers    | 0.3400611793901718  |  0.34555555555555556|   0.30825034040730503|   0.34555555555555556|\n",
    "\n",
    "\n",
    "Please discuss why your best performing model is better than the rest and provide a bried error analaysis."
   ]
  },
  {
   "cell_type": "markdown",
   "metadata": {},
   "source": [
    "I think the best performing model is the Average Embedding (Pre-trained) + X hidden layers.\n",
    "Below is the explanation:\n",
    "\n",
    "In Average Embedding - Model is trained on limited number of tokens ,The best performing model is chosen based on the loss reduction per epoch on hyperparameter(dropout an learning rate)\n",
    "When Accuracyand precision is calculated on test data Accuracy: 0.3333333333333333 Precision: 0.1111111111111111,Recall: 0.3333333333333333, F1-Score: 0.16666666666666666.We can observe here is close to that of training and validation data but the precision is very low.\n",
    "Also it missclassifies most of the \n",
    "\n",
    "In Average Embedding(pre-trained) - As the model is using pretrained weights it performs better that average embeddings precision,accuracy , and recall is better than average embedding.Loss reduces per epoch , but validation loss is still unstable. one possible reason could be because of lack of bias or regularisation.Because on increasing the dropout it performs better.(Model in the average embedding case and Average Embedding (Pre-trained) tends to overfit training data.)\n",
    "\n",
    "In Average Embedding (Pre-trained) + X hidden layers -  Model is using pretrained weights and 1 hidden layer ,it performs better than embeddings and average embeddings in terms steady decrease in loss but the precision and recall remain almost the same. one reason for this could be distribution of tokens in test data.\n",
    "To explain my point here are some examples.\n",
    "sentence1 - Great Britain #39;s performances in the Olympic Games made a dramatic and unexpected improvement yesterday as they won a silver and three bronze medals. They were also guaranteed at least a silver medal in badminton #39;s mixed doubles.\n",
    "correct - sports\n",
    "predicted - politics\n",
    "Sentence 2 - \" LONDON (Reuters) - The dollar dipped to a four-week low  against the euro on Monday before rising slightly on  profit-taking, but steep oil prices and weak U.S. data  continued to fan worries about the health of the world's  largest economy.\"\n",
    "correct - economy\n",
    "predicted - politics\n",
    "Sentence 3 - 'NEW YORK (CNN/Money) - Money managers are growing more pessimistic about the economy, corporate profits and US stock market returns, according to a monthly survey by Merrill Lynch released Tuesday. '\n",
    "correct - economy\n",
    "predicted - politics\n",
    "\n",
    "From the examples it can be observed that if there is a mention of a \"country Name\" it classifies it as Political and as most of the article in the test set are with names of the countries therefore model makes mistakes in clasification.\n",
    "conclusion - Possible solution could be if we can understand which ngram is important to classify a article then it would improve the classification. \n",
    "\"Attention is all what a model need\"\n",
    "\n"
   ]
  },
  {
   "cell_type": "code",
   "execution_count": 457,
   "metadata": {
    "scrolled": true
   },
   "outputs": [
    {
     "data": {
      "text/plain": [
       "3"
      ]
     },
     "execution_count": 457,
     "metadata": {},
     "output_type": "execute_result"
    }
   ],
   "source": [
    "pred_ex = [np.argmax(forward_pass_DA(x_test_train[609], W, dropout_rate=0.3)['A3'])+1]\n",
    "y_test_true[609]\n"
   ]
  },
  {
   "cell_type": "code",
   "execution_count": 458,
   "metadata": {},
   "outputs": [
    {
     "data": {
      "text/plain": [
       "[1]"
      ]
     },
     "execution_count": 458,
     "metadata": {},
     "output_type": "execute_result"
    }
   ],
   "source": [
    "pred_ex"
   ]
  },
  {
   "cell_type": "code",
   "execution_count": 459,
   "metadata": {},
   "outputs": [
    {
     "data": {
      "text/plain": [
       "'NEW YORK (CNN/Money) - Money managers are growing more pessimistic about the economy, corporate profits and US stock market returns, according to a monthly survey by Merrill Lynch released Tuesday. '"
      ]
     },
     "execution_count": 459,
     "metadata": {},
     "output_type": "execute_result"
    }
   ],
   "source": [
    "y_test = list(df_test[1])\n",
    "y_test[609]"
   ]
  }
 ],
 "metadata": {
  "kernelspec": {
   "display_name": "Python 3 (ipykernel)",
   "language": "python",
   "name": "python3"
  },
  "language_info": {
   "codemirror_mode": {
    "name": "ipython",
    "version": 3
   },
   "file_extension": ".py",
   "mimetype": "text/x-python",
   "name": "python",
   "nbconvert_exporter": "python",
   "pygments_lexer": "ipython3",
   "version": "3.9.7"
  },
  "vscode": {
   "interpreter": {
    "hash": "391c3a3ce785676f4532843167773f31f4963fb19e7b17c50aaee75d226daa31"
   }
  }
 },
 "nbformat": 4,
 "nbformat_minor": 2
}
